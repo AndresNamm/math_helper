{
 "cells": [
  {
   "cell_type": "code",
   "execution_count": 2,
   "metadata": {},
   "outputs": [
    {
     "name": "stdout",
     "output_type": "stream",
     "text": [
      "Direction 1 [1, 0, 0], Length: 1.0\n",
      "Direction 2 [0.5773502691896258, 0.5773502691896258, 0.5773502691896258], Length: 1.0\n",
      "Direction 3 [0.6674238124719146, 0.5720775535473553, 0.4767312946227962], Length: 1.0\n",
      "Direction 1 directional derivative 7\n",
      "Direction 2 directional derivative 10.392304845413264\n",
      "Direction 3 directional derivative 10.488088481701514\n"
     ]
    }
   ],
   "source": [
    "import math\n",
    "\n",
    "def get_vector_length(vector):\n",
    "    return math.sqrt(sum([i*i for i in vector]))\n",
    "\n",
    "grad = [7,6,5]\n",
    "grad_length = get_vector_length(grad)\n",
    "equal_distance_vec_length = math.sqrt(sum([1 for _ in range(3)]))\n",
    "\n",
    "\n",
    "# DEFINE 3 UNIT VECTORS\n",
    "direction1 = [1,0,0]\n",
    "direction2 = [ 1/equal_distance_vec_length for _ in range(3)] \n",
    "direction3 = [i / grad_length for i in grad]\n",
    "print(f\"Direction 1 {direction1}, Length: {get_vector_length(direction1)}\")\n",
    "print(f\"Direction 2 {direction2}, Length: {get_vector_length(direction2)}\")\n",
    "print(f\"Direction 3 {direction3}, Length: {get_vector_length(direction3)}\")\n",
    "print(f\"Direction 1 directional derivative {sum([g*d for g,d in zip(direction1,grad)])}\")\n",
    "print(f\"Direction 2 directional derivative {sum([g*d for g,d in zip(direction2,grad)])}\")\n",
    "print(f\"Direction 3 directional derivative {sum([g*d for g,d in zip(direction3,grad)])}\")"
   ]
  },
  {
   "cell_type": "code",
   "execution_count": null,
   "metadata": {},
   "outputs": [],
   "source": []
  }
 ],
 "metadata": {
  "kernelspec": {
   "display_name": ".venv",
   "language": "python",
   "name": "python3"
  },
  "language_info": {
   "codemirror_mode": {
    "name": "ipython",
    "version": 3
   },
   "file_extension": ".py",
   "mimetype": "text/x-python",
   "name": "python",
   "nbconvert_exporter": "python",
   "pygments_lexer": "ipython3",
   "version": "3.11.5"
  }
 },
 "nbformat": 4,
 "nbformat_minor": 2
}
